{
 "cells": [
  {
   "cell_type": "code",
   "execution_count": 21,
   "metadata": {},
   "outputs": [],
   "source": [
    "import pandas as pd \n",
    "data=pd.read_csv(\"Desktop/data.csv\")"
   ]
  },
  {
   "cell_type": "code",
   "execution_count": 27,
   "metadata": {},
   "outputs": [
    {
     "data": {
      "text/html": [
       "<div>\n",
       "<style>\n",
       "    .dataframe thead tr:only-child th {\n",
       "        text-align: right;\n",
       "    }\n",
       "\n",
       "    .dataframe thead th {\n",
       "        text-align: left;\n",
       "    }\n",
       "\n",
       "    .dataframe tbody tr th {\n",
       "        vertical-align: top;\n",
       "    }\n",
       "</style>\n",
       "<table border=\"1\" class=\"dataframe\">\n",
       "  <thead>\n",
       "    <tr style=\"text-align: right;\">\n",
       "      <th></th>\n",
       "      <th>szzs</th>\n",
       "      <th>szzs-1</th>\n",
       "      <th>szzs-2</th>\n",
       "      <th>szzs1</th>\n",
       "      <th>szzs2</th>\n",
       "      <th>gupiao1</th>\n",
       "      <th>gupiao2</th>\n",
       "      <th>gupiao3</th>\n",
       "      <th>gupiao4</th>\n",
       "      <th>gupiao5</th>\n",
       "      <th>...</th>\n",
       "      <th>gupiao291</th>\n",
       "      <th>gupiao292</th>\n",
       "      <th>gupiao293</th>\n",
       "      <th>gupiao294</th>\n",
       "      <th>gupiao295</th>\n",
       "      <th>gupiao296</th>\n",
       "      <th>gupiao297</th>\n",
       "      <th>gupiao298</th>\n",
       "      <th>gupiao299</th>\n",
       "      <th>gupiao300</th>\n",
       "    </tr>\n",
       "  </thead>\n",
       "  <tbody>\n",
       "    <tr>\n",
       "      <th>0</th>\n",
       "      <td>#NAME?</td>\n",
       "      <td>NaN</td>\n",
       "      <td>NaN</td>\n",
       "      <td>3.7527</td>\n",
       "      <td>3.3208</td>\n",
       "      <td>-1.539448</td>\n",
       "      <td>-4.149933</td>\n",
       "      <td>-8.321377</td>\n",
       "      <td>-3.402187</td>\n",
       "      <td>-3.727811</td>\n",
       "      <td>...</td>\n",
       "      <td>-6.849315</td>\n",
       "      <td>2.325581</td>\n",
       "      <td>-5.469679</td>\n",
       "      <td>NaN</td>\n",
       "      <td>2.722772</td>\n",
       "      <td>NaN</td>\n",
       "      <td>NaN</td>\n",
       "      <td>NaN</td>\n",
       "      <td>NaN</td>\n",
       "      <td>NaN</td>\n",
       "    </tr>\n",
       "    <tr>\n",
       "      <th>1</th>\n",
       "      <td>3.7527</td>\n",
       "      <td>#NAME?</td>\n",
       "      <td>NaN</td>\n",
       "      <td>3.3208</td>\n",
       "      <td>0.4867</td>\n",
       "      <td>2.801303</td>\n",
       "      <td>4.189944</td>\n",
       "      <td>6.572770</td>\n",
       "      <td>10.943396</td>\n",
       "      <td>4.486785</td>\n",
       "      <td>...</td>\n",
       "      <td>9.243697</td>\n",
       "      <td>-5.113636</td>\n",
       "      <td>6.163522</td>\n",
       "      <td>NaN</td>\n",
       "      <td>1.927711</td>\n",
       "      <td>NaN</td>\n",
       "      <td>NaN</td>\n",
       "      <td>NaN</td>\n",
       "      <td>NaN</td>\n",
       "      <td>NaN</td>\n",
       "    </tr>\n",
       "    <tr>\n",
       "      <th>2</th>\n",
       "      <td>3.3208</td>\n",
       "      <td>3.7527</td>\n",
       "      <td>#NAME?</td>\n",
       "      <td>0.4867</td>\n",
       "      <td>0.9258</td>\n",
       "      <td>6.337136</td>\n",
       "      <td>5.898123</td>\n",
       "      <td>-2.055800</td>\n",
       "      <td>9.977324</td>\n",
       "      <td>-9.705882</td>\n",
       "      <td>...</td>\n",
       "      <td>5.769231</td>\n",
       "      <td>3.992016</td>\n",
       "      <td>4.265403</td>\n",
       "      <td>NaN</td>\n",
       "      <td>4.964539</td>\n",
       "      <td>NaN</td>\n",
       "      <td>NaN</td>\n",
       "      <td>NaN</td>\n",
       "      <td>NaN</td>\n",
       "      <td>NaN</td>\n",
       "    </tr>\n",
       "    <tr>\n",
       "      <th>3</th>\n",
       "      <td>0.4867</td>\n",
       "      <td>3.3208</td>\n",
       "      <td>3.7527</td>\n",
       "      <td>0.9258</td>\n",
       "      <td>0.2211</td>\n",
       "      <td>1.251490</td>\n",
       "      <td>-1.392405</td>\n",
       "      <td>15.742129</td>\n",
       "      <td>-3.195876</td>\n",
       "      <td>-0.651466</td>\n",
       "      <td>...</td>\n",
       "      <td>1.818182</td>\n",
       "      <td>0.191939</td>\n",
       "      <td>-5.909091</td>\n",
       "      <td>NaN</td>\n",
       "      <td>-0.225225</td>\n",
       "      <td>NaN</td>\n",
       "      <td>NaN</td>\n",
       "      <td>NaN</td>\n",
       "      <td>NaN</td>\n",
       "      <td>NaN</td>\n",
       "    </tr>\n",
       "    <tr>\n",
       "      <th>4</th>\n",
       "      <td>0.9258</td>\n",
       "      <td>0.4867</td>\n",
       "      <td>3.3208</td>\n",
       "      <td>0.2211</td>\n",
       "      <td>3.4977</td>\n",
       "      <td>-0.470865</td>\n",
       "      <td>0.770218</td>\n",
       "      <td>0.000000</td>\n",
       "      <td>6.602769</td>\n",
       "      <td>2.360656</td>\n",
       "      <td>...</td>\n",
       "      <td>-0.178571</td>\n",
       "      <td>-1.532567</td>\n",
       "      <td>7.487923</td>\n",
       "      <td>NaN</td>\n",
       "      <td>0.677201</td>\n",
       "      <td>NaN</td>\n",
       "      <td>NaN</td>\n",
       "      <td>NaN</td>\n",
       "      <td>NaN</td>\n",
       "      <td>NaN</td>\n",
       "    </tr>\n",
       "  </tbody>\n",
       "</table>\n",
       "<p>5 rows × 305 columns</p>\n",
       "</div>"
      ],
      "text/plain": [
       "     szzs  szzs-1  szzs-2   szzs1   szzs2   gupiao1   gupiao2    gupiao3  \\\n",
       "0  #NAME?     NaN     NaN  3.7527  3.3208 -1.539448 -4.149933  -8.321377   \n",
       "1  3.7527  #NAME?     NaN  3.3208  0.4867  2.801303  4.189944   6.572770   \n",
       "2  3.3208  3.7527  #NAME?  0.4867  0.9258  6.337136  5.898123  -2.055800   \n",
       "3  0.4867  3.3208  3.7527  0.9258  0.2211  1.251490 -1.392405  15.742129   \n",
       "4  0.9258  0.4867  3.3208  0.2211  3.4977 -0.470865  0.770218   0.000000   \n",
       "\n",
       "     gupiao4   gupiao5    ...      gupiao291  gupiao292  gupiao293  gupiao294  \\\n",
       "0  -3.402187 -3.727811    ...      -6.849315   2.325581  -5.469679        NaN   \n",
       "1  10.943396  4.486785    ...       9.243697  -5.113636   6.163522        NaN   \n",
       "2   9.977324 -9.705882    ...       5.769231   3.992016   4.265403        NaN   \n",
       "3  -3.195876 -0.651466    ...       1.818182   0.191939  -5.909091        NaN   \n",
       "4   6.602769  2.360656    ...      -0.178571  -1.532567   7.487923        NaN   \n",
       "\n",
       "   gupiao295  gupiao296  gupiao297  gupiao298  gupiao299  gupiao300  \n",
       "0   2.722772        NaN        NaN        NaN        NaN        NaN  \n",
       "1   1.927711        NaN        NaN        NaN        NaN        NaN  \n",
       "2   4.964539        NaN        NaN        NaN        NaN        NaN  \n",
       "3  -0.225225        NaN        NaN        NaN        NaN        NaN  \n",
       "4   0.677201        NaN        NaN        NaN        NaN        NaN  \n",
       "\n",
       "[5 rows x 305 columns]"
      ]
     },
     "execution_count": 27,
     "metadata": {},
     "output_type": "execute_result"
    }
   ],
   "source": [
    "data.head()"
   ]
  },
  {
   "cell_type": "code",
   "execution_count": 39,
   "metadata": {},
   "outputs": [],
   "source": [
    "datanew=data.drop([0,1,2])"
   ]
  },
  {
   "cell_type": "code",
   "execution_count": 40,
   "metadata": {},
   "outputs": [],
   "source": [
    "datanew.dropna(axis=1,inplace=True)"
   ]
  },
  {
   "cell_type": "code",
   "execution_count": 43,
   "metadata": {},
   "outputs": [
    {
     "data": {
      "text/html": [
       "<div>\n",
       "<style>\n",
       "    .dataframe thead tr:only-child th {\n",
       "        text-align: right;\n",
       "    }\n",
       "\n",
       "    .dataframe thead th {\n",
       "        text-align: left;\n",
       "    }\n",
       "\n",
       "    .dataframe tbody tr th {\n",
       "        vertical-align: top;\n",
       "    }\n",
       "</style>\n",
       "<table border=\"1\" class=\"dataframe\">\n",
       "  <thead>\n",
       "    <tr style=\"text-align: right;\">\n",
       "      <th></th>\n",
       "      <th>szzs</th>\n",
       "      <th>szzs-1</th>\n",
       "      <th>szzs-2</th>\n",
       "      <th>szzs1</th>\n",
       "      <th>szzs2</th>\n",
       "      <th>gupiao1</th>\n",
       "      <th>gupiao2</th>\n",
       "      <th>gupiao3</th>\n",
       "      <th>gupiao4</th>\n",
       "      <th>gupiao5</th>\n",
       "      <th>...</th>\n",
       "      <th>gupiao283</th>\n",
       "      <th>gupiao284</th>\n",
       "      <th>gupiao285</th>\n",
       "      <th>gupiao286</th>\n",
       "      <th>gupiao287</th>\n",
       "      <th>gupiao290</th>\n",
       "      <th>gupiao291</th>\n",
       "      <th>gupiao292</th>\n",
       "      <th>gupiao293</th>\n",
       "      <th>gupiao295</th>\n",
       "    </tr>\n",
       "  </thead>\n",
       "  <tbody>\n",
       "    <tr>\n",
       "      <th>3</th>\n",
       "      <td>0.4867</td>\n",
       "      <td>3.3208</td>\n",
       "      <td>3.7527</td>\n",
       "      <td>0.9258</td>\n",
       "      <td>0.2211</td>\n",
       "      <td>1.251490</td>\n",
       "      <td>-1.392405</td>\n",
       "      <td>15.742129</td>\n",
       "      <td>-3.195876</td>\n",
       "      <td>-0.651466</td>\n",
       "      <td>...</td>\n",
       "      <td>-1.113586</td>\n",
       "      <td>5.148515</td>\n",
       "      <td>-3.811075</td>\n",
       "      <td>0.204918</td>\n",
       "      <td>-3.065134</td>\n",
       "      <td>0.990099</td>\n",
       "      <td>1.818182</td>\n",
       "      <td>0.191939</td>\n",
       "      <td>-5.909091</td>\n",
       "      <td>-0.225225</td>\n",
       "    </tr>\n",
       "    <tr>\n",
       "      <th>4</th>\n",
       "      <td>0.9258</td>\n",
       "      <td>0.4867</td>\n",
       "      <td>3.3208</td>\n",
       "      <td>0.2211</td>\n",
       "      <td>3.4977</td>\n",
       "      <td>-0.470865</td>\n",
       "      <td>0.770218</td>\n",
       "      <td>0.000000</td>\n",
       "      <td>6.602769</td>\n",
       "      <td>2.360656</td>\n",
       "      <td>...</td>\n",
       "      <td>-0.450450</td>\n",
       "      <td>3.013183</td>\n",
       "      <td>7.585506</td>\n",
       "      <td>0.000000</td>\n",
       "      <td>4.347826</td>\n",
       "      <td>-0.653595</td>\n",
       "      <td>-0.178571</td>\n",
       "      <td>-1.532567</td>\n",
       "      <td>7.487923</td>\n",
       "      <td>0.677201</td>\n",
       "    </tr>\n",
       "    <tr>\n",
       "      <th>5</th>\n",
       "      <td>0.2211</td>\n",
       "      <td>0.9258</td>\n",
       "      <td>0.4867</td>\n",
       "      <td>3.4977</td>\n",
       "      <td>0.8635</td>\n",
       "      <td>-2.720284</td>\n",
       "      <td>-0.764331</td>\n",
       "      <td>0.000000</td>\n",
       "      <td>0.299700</td>\n",
       "      <td>5.637412</td>\n",
       "      <td>...</td>\n",
       "      <td>2.036199</td>\n",
       "      <td>2.010969</td>\n",
       "      <td>-2.895814</td>\n",
       "      <td>-0.408998</td>\n",
       "      <td>2.878788</td>\n",
       "      <td>-0.657895</td>\n",
       "      <td>6.261181</td>\n",
       "      <td>4.474708</td>\n",
       "      <td>-1.123596</td>\n",
       "      <td>-1.121076</td>\n",
       "    </tr>\n",
       "    <tr>\n",
       "      <th>6</th>\n",
       "      <td>3.4977</td>\n",
       "      <td>0.2211</td>\n",
       "      <td>0.9258</td>\n",
       "      <td>0.8635</td>\n",
       "      <td>-0.8628</td>\n",
       "      <td>2.553191</td>\n",
       "      <td>9.242619</td>\n",
       "      <td>0.000000</td>\n",
       "      <td>3.386454</td>\n",
       "      <td>4.790782</td>\n",
       "      <td>...</td>\n",
       "      <td>9.312639</td>\n",
       "      <td>3.584229</td>\n",
       "      <td>1.717990</td>\n",
       "      <td>0.205339</td>\n",
       "      <td>2.798233</td>\n",
       "      <td>1.655629</td>\n",
       "      <td>3.198653</td>\n",
       "      <td>0.744879</td>\n",
       "      <td>13.522727</td>\n",
       "      <td>1.814059</td>\n",
       "    </tr>\n",
       "    <tr>\n",
       "      <th>7</th>\n",
       "      <td>0.8635</td>\n",
       "      <td>3.4977</td>\n",
       "      <td>0.2211</td>\n",
       "      <td>-0.8628</td>\n",
       "      <td>-1.4235</td>\n",
       "      <td>3.615886</td>\n",
       "      <td>1.410106</td>\n",
       "      <td>0.000000</td>\n",
       "      <td>3.275530</td>\n",
       "      <td>0.810185</td>\n",
       "      <td>...</td>\n",
       "      <td>1.419878</td>\n",
       "      <td>0.173010</td>\n",
       "      <td>-0.828553</td>\n",
       "      <td>0.204918</td>\n",
       "      <td>-0.358166</td>\n",
       "      <td>0.000000</td>\n",
       "      <td>1.631321</td>\n",
       "      <td>3.327172</td>\n",
       "      <td>2.802803</td>\n",
       "      <td>3.118040</td>\n",
       "    </tr>\n",
       "  </tbody>\n",
       "</table>\n",
       "<p>5 rows × 262 columns</p>\n",
       "</div>"
      ],
      "text/plain": [
       "     szzs  szzs-1  szzs-2   szzs1   szzs2   gupiao1   gupiao2    gupiao3  \\\n",
       "3  0.4867  3.3208  3.7527  0.9258  0.2211  1.251490 -1.392405  15.742129   \n",
       "4  0.9258  0.4867  3.3208  0.2211  3.4977 -0.470865  0.770218   0.000000   \n",
       "5  0.2211  0.9258  0.4867  3.4977  0.8635 -2.720284 -0.764331   0.000000   \n",
       "6  3.4977  0.2211  0.9258  0.8635 -0.8628  2.553191  9.242619   0.000000   \n",
       "7  0.8635  3.4977  0.2211 -0.8628 -1.4235  3.615886  1.410106   0.000000   \n",
       "\n",
       "    gupiao4   gupiao5    ...      gupiao283  gupiao284  gupiao285  gupiao286  \\\n",
       "3 -3.195876 -0.651466    ...      -1.113586   5.148515  -3.811075   0.204918   \n",
       "4  6.602769  2.360656    ...      -0.450450   3.013183   7.585506   0.000000   \n",
       "5  0.299700  5.637412    ...       2.036199   2.010969  -2.895814  -0.408998   \n",
       "6  3.386454  4.790782    ...       9.312639   3.584229   1.717990   0.205339   \n",
       "7  3.275530  0.810185    ...       1.419878   0.173010  -0.828553   0.204918   \n",
       "\n",
       "   gupiao287  gupiao290  gupiao291  gupiao292  gupiao293  gupiao295  \n",
       "3  -3.065134   0.990099   1.818182   0.191939  -5.909091  -0.225225  \n",
       "4   4.347826  -0.653595  -0.178571  -1.532567   7.487923   0.677201  \n",
       "5   2.878788  -0.657895   6.261181   4.474708  -1.123596  -1.121076  \n",
       "6   2.798233   1.655629   3.198653   0.744879  13.522727   1.814059  \n",
       "7  -0.358166   0.000000   1.631321   3.327172   2.802803   3.118040  \n",
       "\n",
       "[5 rows x 262 columns]"
      ]
     },
     "execution_count": 43,
     "metadata": {},
     "output_type": "execute_result"
    }
   ],
   "source": [
    "datanew.head()"
   ]
  },
  {
   "cell_type": "code",
   "execution_count": 59,
   "metadata": {},
   "outputs": [],
   "source": [
    "X=datanew[[\"szzs\",\"szzs-1\",\"szzs-2\",\"szzs1\",\"szzs2\"]]"
   ]
  },
  {
   "cell_type": "code",
   "execution_count": 61,
   "metadata": {},
   "outputs": [
    {
     "data": {
      "text/plain": [
       "(253, 5)"
      ]
     },
     "execution_count": 61,
     "metadata": {},
     "output_type": "execute_result"
    }
   ],
   "source": [
    "X.shape"
   ]
  },
  {
   "cell_type": "code",
   "execution_count": 64,
   "metadata": {},
   "outputs": [],
   "source": [
    "Y=datanew.drop([\"szzs\",\"szzs-1\",\"szzs-2\",\"szzs1\",\"szzs2\"],axis=1)"
   ]
  },
  {
   "cell_type": "code",
   "execution_count": 66,
   "metadata": {},
   "outputs": [
    {
     "data": {
      "text/plain": [
       "(253, 257)"
      ]
     },
     "execution_count": 66,
     "metadata": {},
     "output_type": "execute_result"
    }
   ],
   "source": [
    "Y.shape"
   ]
  },
  {
   "cell_type": "code",
   "execution_count": 86,
   "metadata": {},
   "outputs": [],
   "source": [
    "test=np.array(Y,dtype=float)"
   ]
  },
  {
   "cell_type": "code",
   "execution_count": 87,
   "metadata": {},
   "outputs": [
    {
     "data": {
      "text/plain": [
       "1.251489869"
      ]
     },
     "execution_count": 87,
     "metadata": {},
     "output_type": "execute_result"
    }
   ],
   "source": [
    "test[0,0]"
   ]
  },
  {
   "cell_type": "code",
   "execution_count": 88,
   "metadata": {},
   "outputs": [],
   "source": [
    "testx=np.array(X,dtype=float)"
   ]
  },
  {
   "cell_type": "code",
   "execution_count": 89,
   "metadata": {},
   "outputs": [
    {
     "data": {
      "text/plain": [
       "(253, 5)"
      ]
     },
     "execution_count": 89,
     "metadata": {},
     "output_type": "execute_result"
    }
   ],
   "source": [
    "X.shape"
   ]
  },
  {
   "cell_type": "code",
   "execution_count": 90,
   "metadata": {},
   "outputs": [
    {
     "data": {
      "text/plain": [
       "array([[ 0.4867,  3.3208,  3.7527,  0.9258,  0.2211],\n",
       "       [ 0.9258,  0.4867,  3.3208,  0.2211,  3.4977],\n",
       "       [ 0.2211,  0.9258,  0.4867,  3.4977,  0.8635],\n",
       "       ..., \n",
       "       [-3.3995, -0.3379, -0.5547, -0.4107, -0.2095],\n",
       "       [-0.4107, -3.3995, -0.3379, -0.2095,  0.    ],\n",
       "       [-0.2095, -0.4107, -3.3995,  0.    ,  0.    ]])"
      ]
     },
     "execution_count": 90,
     "metadata": {},
     "output_type": "execute_result"
    }
   ],
   "source": [
    "testx"
   ]
  },
  {
   "cell_type": "code",
   "execution_count": 98,
   "metadata": {},
   "outputs": [],
   "source": [
    "testx=np.column_stack((np.ones([testx.shape[0],1]),testx))"
   ]
  },
  {
   "cell_type": "code",
   "execution_count": 99,
   "metadata": {},
   "outputs": [
    {
     "data": {
      "text/plain": [
       "array([[ 1.    ,  0.4867,  3.3208,  3.7527,  0.9258,  0.2211],\n",
       "       [ 1.    ,  0.9258,  0.4867,  3.3208,  0.2211,  3.4977],\n",
       "       [ 1.    ,  0.2211,  0.9258,  0.4867,  3.4977,  0.8635],\n",
       "       ..., \n",
       "       [ 1.    , -3.3995, -0.3379, -0.5547, -0.4107, -0.2095],\n",
       "       [ 1.    , -0.4107, -3.3995, -0.3379, -0.2095,  0.    ],\n",
       "       [ 1.    , -0.2095, -0.4107, -3.3995,  0.    ,  0.    ]])"
      ]
     },
     "execution_count": 99,
     "metadata": {},
     "output_type": "execute_result"
    }
   ],
   "source": [
    "testx"
   ]
  },
  {
   "cell_type": "code",
   "execution_count": 100,
   "metadata": {},
   "outputs": [],
   "source": [
    "Y=test\n",
    "X=testx"
   ]
  },
  {
   "cell_type": "code",
   "execution_count": 101,
   "metadata": {},
   "outputs": [
    {
     "name": "stdout",
     "output_type": "stream",
     "text": [
      "(253, 6) (253, 257)\n"
     ]
    }
   ],
   "source": [
    "print(X.shape,Y.shape)"
   ]
  },
  {
   "cell_type": "code",
   "execution_count": 116,
   "metadata": {},
   "outputs": [],
   "source": [
    "from numpy import *\n",
    "beta=np.dot(np.dot(mat(np.dot(X.transpose(),X)).I,X.transpose()),Y)"
   ]
  },
  {
   "cell_type": "code",
   "execution_count": 119,
   "metadata": {},
   "outputs": [
    {
     "data": {
      "text/plain": [
       "matrix([[ 0.1402477 ,  0.50852739,  1.12615622, ..., -0.07748273,\n",
       "         -0.00547352,  0.21630015],\n",
       "        [ 1.0816859 ,  0.80219923,  0.40296938, ...,  1.02851505,\n",
       "          1.20339324,  1.12947505],\n",
       "        [-0.24062651, -0.33680173,  0.22879   , ..., -0.10662138,\n",
       "         -0.09916978, -0.26126267],\n",
       "        [ 0.04728311, -0.07288899,  0.09779013, ...,  0.02534147,\n",
       "          0.06604766, -0.07332731],\n",
       "        [ 0.05127012,  0.07450616, -0.06580864, ..., -0.11309555,\n",
       "          0.03730409,  0.05446144],\n",
       "        [ 0.07685578,  0.03507822,  0.08411766, ..., -0.07153727,\n",
       "          0.06557888,  0.00849305]])"
      ]
     },
     "execution_count": 119,
     "metadata": {},
     "output_type": "execute_result"
    }
   ],
   "source": [
    "beta"
   ]
  },
  {
   "cell_type": "code",
   "execution_count": 120,
   "metadata": {},
   "outputs": [
    {
     "data": {
      "text/plain": [
       "(253, 6)"
      ]
     },
     "execution_count": 120,
     "metadata": {},
     "output_type": "execute_result"
    }
   ],
   "source": [
    "X.shape"
   ]
  },
  {
   "cell_type": "code",
   "execution_count": 122,
   "metadata": {},
   "outputs": [
    {
     "data": {
      "text/plain": [
       "(6, 257)"
      ]
     },
     "execution_count": 122,
     "metadata": {},
     "output_type": "execute_result"
    }
   ],
   "source": [
    "beta.shape"
   ]
  },
  {
   "cell_type": "code",
   "execution_count": 123,
   "metadata": {
    "collapsed": true
   },
   "outputs": [],
   "source": [
    "Yhat=np.dot(X,beta)"
   ]
  },
  {
   "cell_type": "code",
   "execution_count": 130,
   "metadata": {},
   "outputs": [],
   "source": [
    "eplison=(Y-Yhat).sum(axis=0)"
   ]
  },
  {
   "cell_type": "code",
   "execution_count": 134,
   "metadata": {},
   "outputs": [
    {
     "data": {
      "text/plain": [
       "3.4583447217073626e-14"
      ]
     },
     "execution_count": 134,
     "metadata": {},
     "output_type": "execute_result"
    }
   ],
   "source": [
    "eplison[0,0]"
   ]
  },
  {
   "cell_type": "code",
   "execution_count": 140,
   "metadata": {},
   "outputs": [
    {
     "data": {
      "text/plain": [
       "(6, 1)"
      ]
     },
     "execution_count": 140,
     "metadata": {},
     "output_type": "execute_result"
    }
   ],
   "source": [
    "beta[:,0].shape"
   ]
  },
  {
   "cell_type": "code",
   "execution_count": 143,
   "metadata": {},
   "outputs": [
    {
     "name": "stdout",
     "output_type": "stream",
     "text": [
      "(253, 6) (253, 257) (6, 257) (253, 257)\n"
     ]
    }
   ],
   "source": [
    "print(X.shape,Y.shape,beta.shape,Yhat.shape)"
   ]
  },
  {
   "cell_type": "code",
   "execution_count": 170,
   "metadata": {},
   "outputs": [
    {
     "data": {
      "text/plain": [
       "matrix([[   3542.16296313,    5686.78063729,   14284.45396247,\n",
       "            6514.40176511,    4703.78450008,    4484.25323911,\n",
       "            2733.80557606,    2193.73087408,    2731.58576136,\n",
       "            4902.48183517,    9221.40907192,    8334.58197102,\n",
       "            3176.320197  ,    5495.43772951,   10344.90949566,\n",
       "            2666.01020744,   10211.98272909,   10014.58597366,\n",
       "            4244.44585593,    3139.47087664,    6032.07621798,\n",
       "           11150.25383635,    3918.15793478,    4109.37022797,\n",
       "            7786.98149142,    4494.95355749,    4414.86496588,\n",
       "           11490.5531308 ,    3029.01564773,    5866.04930423,\n",
       "            9325.00957876,    7344.58082936,    5849.61277652,\n",
       "            4266.6343385 ,    4905.96677026,    5152.37372409,\n",
       "            5661.79264691,    7187.64623502,    2937.74424597,\n",
       "            4612.45713174,    3825.77156421,    3333.49779489,\n",
       "           18564.38348767,    5949.35051077,    9458.33798873,\n",
       "            3168.24642111,    3867.04926524,    4534.39923393,\n",
       "            6985.16796124,    9593.40439942,   17918.17152536,\n",
       "           14117.06738487,    7682.89137249,   17032.61242024,\n",
       "            7787.93451182,    2742.60301173,    7883.67458009,\n",
       "           13620.77737634,   13826.14309323,    4237.88941364,\n",
       "            8491.75644527,    6552.348125  ,    7349.16821123,\n",
       "            5431.78546622,   11361.67472135,    5471.7886601 ,\n",
       "            5466.01920603,    7374.79663908,   14567.21825697,\n",
       "            5189.89915951,   13000.16004634,    6257.5603383 ,\n",
       "           10227.74564489,    8995.6085784 ,    6931.68745056,\n",
       "            9508.61449215,   12330.07388009,    7304.33207083,\n",
       "           14684.07406206,   16387.2855531 ,    4726.55845359,\n",
       "            6541.76869463,    5127.47645383,    5565.36347698,\n",
       "           20171.5167662 ,   18271.3352168 ,    7367.33243996,\n",
       "            8861.90706313,    9526.05373748,   16555.03515271,\n",
       "            6599.63885789,   15584.39789948,    6219.79300986,\n",
       "            5585.20606444,   11750.4588861 ,    7587.02031505,\n",
       "           12006.35630041,   18131.18906201,   18625.37135434,\n",
       "            6543.47680908,    8162.52329461,    9967.88176244,\n",
       "            6372.47716428,   16196.19989619,    9451.48988818,\n",
       "           13724.79233124,    2598.81747465,    5211.21304926,\n",
       "            2706.07118659,    8015.09275389,    3337.15333296,\n",
       "            2259.39236614,    3298.63097535,    9683.7485516 ,\n",
       "            2646.84581819,    8834.59677036,    2043.8069342 ,\n",
       "            5079.01337679,    4080.29705005,    3091.48805195,\n",
       "            1992.36777036,    6137.69330242,    4811.22210485,\n",
       "            4094.79977142,   16480.69545954,    3537.87096139,\n",
       "            3329.38781154,   13384.11735938,    4293.37223949,\n",
       "            3991.27904966,    5713.77516574,    3048.28944876,\n",
       "            6970.63527328,    4716.79151766,    5495.92325031,\n",
       "            8593.03399159,    7066.08134921,   10725.81330061,\n",
       "            5779.02088417,    2995.61789943,    5604.77913312,\n",
       "            3765.82101324,    5736.56791786,    3104.22594494,\n",
       "            3336.83959304,   16877.54867912,    6265.13174068,\n",
       "            2928.34527339,    9298.15091031,    2705.94395402,\n",
       "            7308.14887332,    7401.17078408,    6040.37812098,\n",
       "            3171.25433047,    7828.03486722,    7281.98980875,\n",
       "            6815.38325533,    6756.22340466,    8112.93645167,\n",
       "           14394.4940104 ,    6050.1690094 ,    6485.69288472,\n",
       "            6096.9155283 ,    7585.93466933,   16530.37533574,\n",
       "            4657.99620227,    7630.93540119,    6063.59925927,\n",
       "            4068.76545585,    8128.30384197,    3248.06618635,\n",
       "            7279.17570448,    6052.614493  ,   10714.45523741,\n",
       "            3317.6120597 ,    3029.15833937,   11482.04341068,\n",
       "           11900.03081855,   10196.39107466,    9916.416867  ,\n",
       "            2042.71382352,   10301.03601238,    2358.01927955,\n",
       "            5572.63554277,   10366.52212046,    7179.69593612,\n",
       "            4255.92001858,    7473.04872204,    8954.24866888,\n",
       "          212843.01285259,    6738.45739307,    3072.35052752,\n",
       "            2612.80180181,    9639.0420247 ,    6503.40485347,\n",
       "            6002.69661429,    4726.99019985,    3920.67411046,\n",
       "           11230.78367483,    4072.36590719,    4781.38609414,\n",
       "            8509.30743651,    5807.79578119,    1290.99639617,\n",
       "            5409.59599545,    2114.49933216,    2072.82486272,\n",
       "            6125.88931793,    1954.42209537,    4501.53964492,\n",
       "            4710.09139984,    3604.26625687,    7205.9309188 ,\n",
       "            2524.70597794,    2289.59724104,    6599.67937782,\n",
       "           10572.27218378,    1545.88684821,    2014.38435246,\n",
       "            2851.28419244,    3795.57363644,    5129.80730782,\n",
       "            4018.83360613,    8571.07526531,    1573.73135646,\n",
       "            5064.57775251,    3944.75367506,    2869.19180569,\n",
       "            3813.03350426,    6567.73084702,    4013.40469578,\n",
       "            6161.18674157,    3828.36823668,    7303.65138316,\n",
       "            5781.29511603,    8013.33938126,    4576.708205  ,\n",
       "           11747.87356388,    6015.49071805,    2543.27770116,\n",
       "            1744.28426984,    7071.92373716,    5484.77292051,\n",
       "            3946.46087618,    3782.21857171,    2533.58658267,\n",
       "            3480.65123427,    6342.05186887,    6099.37255813,\n",
       "            5366.88088118,    1900.0770263 ,    3521.11991989,\n",
       "            2028.57931998,    5169.44847536,    3372.93542163,\n",
       "            5655.12292565,    4105.00316397]])"
      ]
     },
     "execution_count": 170,
     "metadata": {},
     "output_type": "execute_result"
    }
   ],
   "source": [
    "np.multiply(Y-Yhat,Y-Yhat).sum(axis=0)"
   ]
  },
  {
   "cell_type": "code",
   "execution_count": 163,
   "metadata": {},
   "outputs": [
    {
     "data": {
      "text/plain": [
       "1.251489869"
      ]
     },
     "execution_count": 163,
     "metadata": {},
     "output_type": "execute_result"
    }
   ],
   "source": [
    "Y[0,0]"
   ]
  },
  {
   "cell_type": "code",
   "execution_count": 164,
   "metadata": {},
   "outputs": [
    {
     "data": {
      "text/plain": [
       "0.10952971914167915"
      ]
     },
     "execution_count": 164,
     "metadata": {},
     "output_type": "execute_result"
    }
   ],
   "source": [
    "Yhat[0,0]"
   ]
  },
  {
   "cell_type": "code",
   "execution_count": 174,
   "metadata": {},
   "outputs": [],
   "source": [
    "beta=pd.DataFrame(beta)"
   ]
  },
  {
   "cell_type": "code",
   "execution_count": 178,
   "metadata": {},
   "outputs": [],
   "source": [
    "beta.to_csv(\"Desktop/beta.csv\")"
   ]
  },
  {
   "cell_type": "code",
   "execution_count": 184,
   "metadata": {
    "collapsed": true
   },
   "outputs": [],
   "source": [
    "eplison=Y-Yhat"
   ]
  },
  {
   "cell_type": "code",
   "execution_count": 182,
   "metadata": {},
   "outputs": [],
   "source": [
    "eplison=pd.DataFrame(eplison).to_csv(\"Desktop/eplison.csv\")"
   ]
  },
  {
   "cell_type": "code",
   "execution_count": 185,
   "metadata": {},
   "outputs": [
    {
     "data": {
      "text/plain": [
       "(253, 257)"
      ]
     },
     "execution_count": 185,
     "metadata": {},
     "output_type": "execute_result"
    }
   ],
   "source": [
    "eplison.shape"
   ]
  },
  {
   "cell_type": "code",
   "execution_count": null,
   "metadata": {
    "collapsed": true
   },
   "outputs": [],
   "source": []
  }
 ],
 "metadata": {
  "kernelspec": {
   "display_name": "Python 3",
   "language": "python",
   "name": "python3"
  },
  "language_info": {
   "codemirror_mode": {
    "name": "ipython",
    "version": 3
   },
   "file_extension": ".py",
   "mimetype": "text/x-python",
   "name": "python",
   "nbconvert_exporter": "python",
   "pygments_lexer": "ipython3",
   "version": "3.6.1"
  }
 },
 "nbformat": 4,
 "nbformat_minor": 2
}
